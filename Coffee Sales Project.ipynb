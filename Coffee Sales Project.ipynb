{
 "cells": [
  {
   "cell_type": "markdown",
   "id": "3f6e4536-f819-4ae5-9787-05f15884ffc6",
   "metadata": {},
   "source": [
    "\n",
    "                                                          \n",
    "                                                          Data Preparation and Cleaning\n",
    "\n",
    "                                                          "
   ]
  },
  {
   "cell_type": "code",
   "execution_count": 2,
   "id": "c7a73743-9b2f-4730-88fc-7cdbdfedab6c",
   "metadata": {},
   "outputs": [],
   "source": [
    "import pandas as pd\n",
    "import numpy as np\n",
    "import matplotlib.pyplot as plt\n",
    "import seaborn as sns\n",
    "import datetime as dt\n",
    "import warnings\n",
    "warnings.filterwarnings('ignore')\n",
    "import os"
   ]
  },
  {
   "cell_type": "code",
   "execution_count": 3,
   "id": "b0d2b1a4-2a65-4438-acac-3810d1fd4951",
   "metadata": {},
   "outputs": [],
   "source": [
    "data = pd.read_csv(r\"C:\\Users\\hp\\Desktop\\Unified Mentor\\Coffee Sales Data\\index.csv\")"
   ]
  },
  {
   "cell_type": "code",
   "execution_count": 3,
   "id": "18e596e7-29b5-4068-a946-a24ae72731f2",
   "metadata": {},
   "outputs": [
    {
     "data": {
      "text/html": [
       "<div>\n",
       "<style scoped>\n",
       "    .dataframe tbody tr th:only-of-type {\n",
       "        vertical-align: middle;\n",
       "    }\n",
       "\n",
       "    .dataframe tbody tr th {\n",
       "        vertical-align: top;\n",
       "    }\n",
       "\n",
       "    .dataframe thead th {\n",
       "        text-align: right;\n",
       "    }\n",
       "</style>\n",
       "<table border=\"1\" class=\"dataframe\">\n",
       "  <thead>\n",
       "    <tr style=\"text-align: right;\">\n",
       "      <th></th>\n",
       "      <th>date</th>\n",
       "      <th>datetime</th>\n",
       "      <th>cash_type</th>\n",
       "      <th>card</th>\n",
       "      <th>money</th>\n",
       "      <th>coffee_name</th>\n",
       "    </tr>\n",
       "  </thead>\n",
       "  <tbody>\n",
       "    <tr>\n",
       "      <th>0</th>\n",
       "      <td>2024-03-01</td>\n",
       "      <td>2024-03-01 10:15:50.520</td>\n",
       "      <td>card</td>\n",
       "      <td>ANON-0000-0000-0001</td>\n",
       "      <td>38.7</td>\n",
       "      <td>Latte</td>\n",
       "    </tr>\n",
       "    <tr>\n",
       "      <th>1</th>\n",
       "      <td>2024-03-01</td>\n",
       "      <td>2024-03-01 12:19:22.539</td>\n",
       "      <td>card</td>\n",
       "      <td>ANON-0000-0000-0002</td>\n",
       "      <td>38.7</td>\n",
       "      <td>Hot Chocolate</td>\n",
       "    </tr>\n",
       "    <tr>\n",
       "      <th>2</th>\n",
       "      <td>2024-03-01</td>\n",
       "      <td>2024-03-01 12:20:18.089</td>\n",
       "      <td>card</td>\n",
       "      <td>ANON-0000-0000-0002</td>\n",
       "      <td>38.7</td>\n",
       "      <td>Hot Chocolate</td>\n",
       "    </tr>\n",
       "    <tr>\n",
       "      <th>3</th>\n",
       "      <td>2024-03-01</td>\n",
       "      <td>2024-03-01 13:46:33.006</td>\n",
       "      <td>card</td>\n",
       "      <td>ANON-0000-0000-0003</td>\n",
       "      <td>28.9</td>\n",
       "      <td>Americano</td>\n",
       "    </tr>\n",
       "    <tr>\n",
       "      <th>4</th>\n",
       "      <td>2024-03-01</td>\n",
       "      <td>2024-03-01 13:48:14.626</td>\n",
       "      <td>card</td>\n",
       "      <td>ANON-0000-0000-0004</td>\n",
       "      <td>38.7</td>\n",
       "      <td>Latte</td>\n",
       "    </tr>\n",
       "    <tr>\n",
       "      <th>5</th>\n",
       "      <td>2024-03-01</td>\n",
       "      <td>2024-03-01 15:39:47.726</td>\n",
       "      <td>card</td>\n",
       "      <td>ANON-0000-0000-0005</td>\n",
       "      <td>33.8</td>\n",
       "      <td>Americano with Milk</td>\n",
       "    </tr>\n",
       "    <tr>\n",
       "      <th>6</th>\n",
       "      <td>2024-03-01</td>\n",
       "      <td>2024-03-01 16:19:02.756</td>\n",
       "      <td>card</td>\n",
       "      <td>ANON-0000-0000-0006</td>\n",
       "      <td>38.7</td>\n",
       "      <td>Hot Chocolate</td>\n",
       "    </tr>\n",
       "    <tr>\n",
       "      <th>7</th>\n",
       "      <td>2024-03-01</td>\n",
       "      <td>2024-03-01 18:39:03.580</td>\n",
       "      <td>card</td>\n",
       "      <td>ANON-0000-0000-0007</td>\n",
       "      <td>33.8</td>\n",
       "      <td>Americano with Milk</td>\n",
       "    </tr>\n",
       "    <tr>\n",
       "      <th>8</th>\n",
       "      <td>2024-03-01</td>\n",
       "      <td>2024-03-01 19:22:01.762</td>\n",
       "      <td>card</td>\n",
       "      <td>ANON-0000-0000-0008</td>\n",
       "      <td>38.7</td>\n",
       "      <td>Cocoa</td>\n",
       "    </tr>\n",
       "    <tr>\n",
       "      <th>9</th>\n",
       "      <td>2024-03-01</td>\n",
       "      <td>2024-03-01 19:23:15.887</td>\n",
       "      <td>card</td>\n",
       "      <td>ANON-0000-0000-0008</td>\n",
       "      <td>33.8</td>\n",
       "      <td>Americano with Milk</td>\n",
       "    </tr>\n",
       "  </tbody>\n",
       "</table>\n",
       "</div>"
      ],
      "text/plain": [
       "         date                 datetime cash_type                 card  money  \\\n",
       "0  2024-03-01  2024-03-01 10:15:50.520      card  ANON-0000-0000-0001   38.7   \n",
       "1  2024-03-01  2024-03-01 12:19:22.539      card  ANON-0000-0000-0002   38.7   \n",
       "2  2024-03-01  2024-03-01 12:20:18.089      card  ANON-0000-0000-0002   38.7   \n",
       "3  2024-03-01  2024-03-01 13:46:33.006      card  ANON-0000-0000-0003   28.9   \n",
       "4  2024-03-01  2024-03-01 13:48:14.626      card  ANON-0000-0000-0004   38.7   \n",
       "5  2024-03-01  2024-03-01 15:39:47.726      card  ANON-0000-0000-0005   33.8   \n",
       "6  2024-03-01  2024-03-01 16:19:02.756      card  ANON-0000-0000-0006   38.7   \n",
       "7  2024-03-01  2024-03-01 18:39:03.580      card  ANON-0000-0000-0007   33.8   \n",
       "8  2024-03-01  2024-03-01 19:22:01.762      card  ANON-0000-0000-0008   38.7   \n",
       "9  2024-03-01  2024-03-01 19:23:15.887      card  ANON-0000-0000-0008   33.8   \n",
       "\n",
       "           coffee_name  \n",
       "0                Latte  \n",
       "1        Hot Chocolate  \n",
       "2        Hot Chocolate  \n",
       "3            Americano  \n",
       "4                Latte  \n",
       "5  Americano with Milk  \n",
       "6        Hot Chocolate  \n",
       "7  Americano with Milk  \n",
       "8                Cocoa  \n",
       "9  Americano with Milk  "
      ]
     },
     "execution_count": 3,
     "metadata": {},
     "output_type": "execute_result"
    }
   ],
   "source": [
    "data.head(10)"
   ]
  },
  {
   "cell_type": "code",
   "execution_count": 6,
   "id": "35cf99d2-2235-4cb9-9adf-a2ac1b985054",
   "metadata": {},
   "outputs": [
    {
     "data": {
      "text/plain": [
       "Index(['date', 'datetime', 'cash_type', 'card', 'money', 'coffee_name'], dtype='object')"
      ]
     },
     "execution_count": 6,
     "metadata": {},
     "output_type": "execute_result"
    }
   ],
   "source": [
    "data.columns"
   ]
  },
  {
   "cell_type": "code",
   "execution_count": 6,
   "id": "4c7104cc-d377-4f6e-a43b-82533d8497c1",
   "metadata": {},
   "outputs": [
    {
     "name": "stdout",
     "output_type": "stream",
     "text": [
      "Total number of rows are: 1133\n"
     ]
    }
   ],
   "source": [
    "print(\"Total number of rows are:\", data.shape[0]) "
   ]
  },
  {
   "cell_type": "code",
   "execution_count": 8,
   "id": "1b2e54cc-17a2-471f-851e-8913268b304b",
   "metadata": {},
   "outputs": [
    {
     "name": "stdout",
     "output_type": "stream",
     "text": [
      "Total number of Columns are: 6\n"
     ]
    }
   ],
   "source": [
    "print(\"Total number of Columns are:\", data.shape[1])"
   ]
  },
  {
   "cell_type": "code",
   "execution_count": 9,
   "id": "945ea872-d51e-4069-aa64-5ab4368c8a9c",
   "metadata": {},
   "outputs": [
    {
     "data": {
      "text/html": [
       "<div>\n",
       "<style scoped>\n",
       "    .dataframe tbody tr th:only-of-type {\n",
       "        vertical-align: middle;\n",
       "    }\n",
       "\n",
       "    .dataframe tbody tr th {\n",
       "        vertical-align: top;\n",
       "    }\n",
       "\n",
       "    .dataframe thead th {\n",
       "        text-align: right;\n",
       "    }\n",
       "</style>\n",
       "<table border=\"1\" class=\"dataframe\">\n",
       "  <thead>\n",
       "    <tr style=\"text-align: right;\">\n",
       "      <th></th>\n",
       "      <th>money</th>\n",
       "    </tr>\n",
       "  </thead>\n",
       "  <tbody>\n",
       "    <tr>\n",
       "      <th>count</th>\n",
       "      <td>1133.000000</td>\n",
       "    </tr>\n",
       "    <tr>\n",
       "      <th>mean</th>\n",
       "      <td>33.105808</td>\n",
       "    </tr>\n",
       "    <tr>\n",
       "      <th>std</th>\n",
       "      <td>5.035366</td>\n",
       "    </tr>\n",
       "    <tr>\n",
       "      <th>min</th>\n",
       "      <td>18.120000</td>\n",
       "    </tr>\n",
       "    <tr>\n",
       "      <th>25%</th>\n",
       "      <td>28.900000</td>\n",
       "    </tr>\n",
       "    <tr>\n",
       "      <th>50%</th>\n",
       "      <td>32.820000</td>\n",
       "    </tr>\n",
       "    <tr>\n",
       "      <th>75%</th>\n",
       "      <td>37.720000</td>\n",
       "    </tr>\n",
       "    <tr>\n",
       "      <th>max</th>\n",
       "      <td>40.000000</td>\n",
       "    </tr>\n",
       "  </tbody>\n",
       "</table>\n",
       "</div>"
      ],
      "text/plain": [
       "             money\n",
       "count  1133.000000\n",
       "mean     33.105808\n",
       "std       5.035366\n",
       "min      18.120000\n",
       "25%      28.900000\n",
       "50%      32.820000\n",
       "75%      37.720000\n",
       "max      40.000000"
      ]
     },
     "execution_count": 9,
     "metadata": {},
     "output_type": "execute_result"
    }
   ],
   "source": [
    "data.describe()"
   ]
  },
  {
   "cell_type": "code",
   "execution_count": 10,
   "id": "1949080d-ccff-453e-b109-4737bd61cae6",
   "metadata": {},
   "outputs": [
    {
     "data": {
      "text/html": [
       "<div>\n",
       "<style scoped>\n",
       "    .dataframe tbody tr th:only-of-type {\n",
       "        vertical-align: middle;\n",
       "    }\n",
       "\n",
       "    .dataframe tbody tr th {\n",
       "        vertical-align: top;\n",
       "    }\n",
       "\n",
       "    .dataframe thead th {\n",
       "        text-align: right;\n",
       "    }\n",
       "</style>\n",
       "<table border=\"1\" class=\"dataframe\">\n",
       "  <thead>\n",
       "    <tr style=\"text-align: right;\">\n",
       "      <th></th>\n",
       "      <th>date</th>\n",
       "      <th>datetime</th>\n",
       "      <th>cash_type</th>\n",
       "      <th>card</th>\n",
       "      <th>coffee_name</th>\n",
       "    </tr>\n",
       "  </thead>\n",
       "  <tbody>\n",
       "    <tr>\n",
       "      <th>count</th>\n",
       "      <td>1133</td>\n",
       "      <td>1133</td>\n",
       "      <td>1133</td>\n",
       "      <td>1044</td>\n",
       "      <td>1133</td>\n",
       "    </tr>\n",
       "    <tr>\n",
       "      <th>unique</th>\n",
       "      <td>150</td>\n",
       "      <td>1133</td>\n",
       "      <td>2</td>\n",
       "      <td>446</td>\n",
       "      <td>8</td>\n",
       "    </tr>\n",
       "    <tr>\n",
       "      <th>top</th>\n",
       "      <td>2024-07-30</td>\n",
       "      <td>2024-07-31 21:55:16.570</td>\n",
       "      <td>card</td>\n",
       "      <td>ANON-0000-0000-0012</td>\n",
       "      <td>Americano with Milk</td>\n",
       "    </tr>\n",
       "    <tr>\n",
       "      <th>freq</th>\n",
       "      <td>24</td>\n",
       "      <td>1</td>\n",
       "      <td>1044</td>\n",
       "      <td>88</td>\n",
       "      <td>268</td>\n",
       "    </tr>\n",
       "  </tbody>\n",
       "</table>\n",
       "</div>"
      ],
      "text/plain": [
       "              date                 datetime cash_type                 card  \\\n",
       "count         1133                     1133      1133                 1044   \n",
       "unique         150                     1133         2                  446   \n",
       "top     2024-07-30  2024-07-31 21:55:16.570      card  ANON-0000-0000-0012   \n",
       "freq            24                        1      1044                   88   \n",
       "\n",
       "                coffee_name  \n",
       "count                  1133  \n",
       "unique                    8  \n",
       "top     Americano with Milk  \n",
       "freq                    268  "
      ]
     },
     "execution_count": 10,
     "metadata": {},
     "output_type": "execute_result"
    }
   ],
   "source": [
    "data.describe(include=['object'])"
   ]
  },
  {
   "cell_type": "markdown",
   "id": "8f154df8-a293-4b18-bdb7-dd8cb594b8da",
   "metadata": {},
   "source": [
    "\n",
    "\n",
    "                                                            Check for missing values\n",
    "\n",
    "                                                            "
   ]
  },
  {
   "cell_type": "code",
   "execution_count": 3,
   "id": "7b2e3e76-89a5-4b0b-82af-daed24e637bc",
   "metadata": {},
   "outputs": [
    {
     "data": {
      "text/plain": [
       "date            0\n",
       "datetime        0\n",
       "cash_type       0\n",
       "card           89\n",
       "money           0\n",
       "coffee_name     0\n",
       "dtype: int64"
      ]
     },
     "execution_count": 3,
     "metadata": {},
     "output_type": "execute_result"
    }
   ],
   "source": [
    "data.isnull().sum()"
   ]
  },
  {
   "cell_type": "code",
   "execution_count": 4,
   "id": "b2e47c6d-f228-4a88-a489-59aac71baf4e",
   "metadata": {},
   "outputs": [
    {
     "name": "stdout",
     "output_type": "stream",
     "text": [
      "Total number of missing values across all columns are: 89\n"
     ]
    }
   ],
   "source": [
    "print(\"Total number of missing values across all columns are:\", data.isnull().sum().sum())"
   ]
  },
  {
   "cell_type": "code",
   "execution_count": 5,
   "id": "e5b452fd-d10f-4bae-97e8-e902fb7d3e85",
   "metadata": {},
   "outputs": [
    {
     "name": "stdout",
     "output_type": "stream",
     "text": [
      "Column: '[card]' has 89 missing values\n"
     ]
    }
   ],
   "source": [
    "for column in data.columns[data.isnull().any()]:\n",
    "    print(f\"Column: '[{column}]' has {data[column].isnull().sum()} missing values\")"
   ]
  },
  {
   "cell_type": "markdown",
   "id": "b9bcbe89-6ff8-4eb9-b54f-77c8151a448c",
   "metadata": {},
   "source": [
    "\n",
    "\n",
    "                                                        Handling Missing Values\n",
    "\n",
    "                                                        "
   ]
  },
  {
   "cell_type": "markdown",
   "id": "c0ffc735-f61e-478c-8e1e-d1d31867ed54",
   "metadata": {},
   "source": [
    "As here we have missing values only in card column, therefore we have to handle the missing values with the mode as the card column is categorical and the values remained after applying mode will be replaced by NAN"
   ]
  },
  {
   "cell_type": "code",
   "execution_count": 6,
   "id": "53cdc412-c582-4541-aae7-03ba8143909e",
   "metadata": {},
   "outputs": [],
   "source": [
    "data['card'].fillna(data['card'].mode()[0], inplace=True)\n",
    "data.fillna(np.nan, inplace=True)\n"
   ]
  },
  {
   "cell_type": "code",
   "execution_count": 7,
   "id": "f6ce68ad-2f36-4038-9e27-9f99aa27c22c",
   "metadata": {},
   "outputs": [
    {
     "data": {
      "text/plain": [
       "date           0\n",
       "datetime       0\n",
       "cash_type      0\n",
       "card           0\n",
       "money          0\n",
       "coffee_name    0\n",
       "dtype: int64"
      ]
     },
     "execution_count": 7,
     "metadata": {},
     "output_type": "execute_result"
    }
   ],
   "source": [
    "data.isnull().sum()"
   ]
  },
  {
   "cell_type": "markdown",
   "id": "29c3db8a-14b9-4687-988f-bfe11464302b",
   "metadata": {},
   "source": [
    "\n",
    "\n",
    "                                                            Converting Data Types\n",
    "\n",
    "                                                            "
   ]
  },
  {
   "cell_type": "code",
   "execution_count": 6,
   "id": "686f2647-81da-4b31-a355-4ff276cbde97",
   "metadata": {},
   "outputs": [],
   "source": [
    "## Convert Date to datetime type\n",
    "data['date'] = pd.to_datetime(data['date'])"
   ]
  },
  {
   "cell_type": "code",
   "execution_count": 7,
   "id": "5a0a1e8a-5d14-4830-9984-64178c764b7d",
   "metadata": {},
   "outputs": [
    {
     "data": {
      "text/plain": [
       "date           datetime64[ns]\n",
       "datetime               object\n",
       "cash_type              object\n",
       "card                   object\n",
       "money                 float64\n",
       "coffee_name            object\n",
       "dtype: object"
      ]
     },
     "execution_count": 7,
     "metadata": {},
     "output_type": "execute_result"
    }
   ],
   "source": [
    "data.dtypes"
   ]
  },
  {
   "cell_type": "markdown",
   "id": "f73ec8d9-f7fd-4d90-9a0d-0e3ea7f9a30c",
   "metadata": {},
   "source": [
    "\n",
    "                                                                \n",
    "                                                                Feature Engineering\n",
    "                                                        Extract month and year from the Date\n",
    "\n",
    "                                                                "
   ]
  },
  {
   "cell_type": "code",
   "execution_count": 8,
   "id": "287c0f53-88b6-4e9f-ad29-775ef4c824e1",
   "metadata": {},
   "outputs": [],
   "source": [
    "data['Year'] = data['date'].dt.year\n",
    "data['Month'] = data['date'].dt.month\n"
   ]
  },
  {
   "cell_type": "code",
   "execution_count": 11,
   "id": "91a80f86-2911-49fb-aad8-b4b6ddfd5e77",
   "metadata": {},
   "outputs": [],
   "source": [
    "# Drop the original Date column\n",
    "data.drop(columns=['date'], inplace=True)"
   ]
  },
  {
   "cell_type": "code",
   "execution_count": 12,
   "id": "2a8cf20c-c4e2-4ad9-ae5d-c5f123ad351b",
   "metadata": {},
   "outputs": [
    {
     "data": {
      "text/html": [
       "<div>\n",
       "<style scoped>\n",
       "    .dataframe tbody tr th:only-of-type {\n",
       "        vertical-align: middle;\n",
       "    }\n",
       "\n",
       "    .dataframe tbody tr th {\n",
       "        vertical-align: top;\n",
       "    }\n",
       "\n",
       "    .dataframe thead th {\n",
       "        text-align: right;\n",
       "    }\n",
       "</style>\n",
       "<table border=\"1\" class=\"dataframe\">\n",
       "  <thead>\n",
       "    <tr style=\"text-align: right;\">\n",
       "      <th></th>\n",
       "      <th>datetime</th>\n",
       "      <th>cash_type</th>\n",
       "      <th>card</th>\n",
       "      <th>money</th>\n",
       "      <th>coffee_name</th>\n",
       "      <th>Year</th>\n",
       "      <th>Month</th>\n",
       "    </tr>\n",
       "  </thead>\n",
       "  <tbody>\n",
       "    <tr>\n",
       "      <th>0</th>\n",
       "      <td>2024-03-01 10:15:50.520</td>\n",
       "      <td>card</td>\n",
       "      <td>ANON-0000-0000-0001</td>\n",
       "      <td>38.7</td>\n",
       "      <td>Latte</td>\n",
       "      <td>2024</td>\n",
       "      <td>3</td>\n",
       "    </tr>\n",
       "    <tr>\n",
       "      <th>1</th>\n",
       "      <td>2024-03-01 12:19:22.539</td>\n",
       "      <td>card</td>\n",
       "      <td>ANON-0000-0000-0002</td>\n",
       "      <td>38.7</td>\n",
       "      <td>Hot Chocolate</td>\n",
       "      <td>2024</td>\n",
       "      <td>3</td>\n",
       "    </tr>\n",
       "    <tr>\n",
       "      <th>2</th>\n",
       "      <td>2024-03-01 12:20:18.089</td>\n",
       "      <td>card</td>\n",
       "      <td>ANON-0000-0000-0002</td>\n",
       "      <td>38.7</td>\n",
       "      <td>Hot Chocolate</td>\n",
       "      <td>2024</td>\n",
       "      <td>3</td>\n",
       "    </tr>\n",
       "    <tr>\n",
       "      <th>3</th>\n",
       "      <td>2024-03-01 13:46:33.006</td>\n",
       "      <td>card</td>\n",
       "      <td>ANON-0000-0000-0003</td>\n",
       "      <td>28.9</td>\n",
       "      <td>Americano</td>\n",
       "      <td>2024</td>\n",
       "      <td>3</td>\n",
       "    </tr>\n",
       "    <tr>\n",
       "      <th>4</th>\n",
       "      <td>2024-03-01 13:48:14.626</td>\n",
       "      <td>card</td>\n",
       "      <td>ANON-0000-0000-0004</td>\n",
       "      <td>38.7</td>\n",
       "      <td>Latte</td>\n",
       "      <td>2024</td>\n",
       "      <td>3</td>\n",
       "    </tr>\n",
       "  </tbody>\n",
       "</table>\n",
       "</div>"
      ],
      "text/plain": [
       "                  datetime cash_type                 card  money  \\\n",
       "0  2024-03-01 10:15:50.520      card  ANON-0000-0000-0001   38.7   \n",
       "1  2024-03-01 12:19:22.539      card  ANON-0000-0000-0002   38.7   \n",
       "2  2024-03-01 12:20:18.089      card  ANON-0000-0000-0002   38.7   \n",
       "3  2024-03-01 13:46:33.006      card  ANON-0000-0000-0003   28.9   \n",
       "4  2024-03-01 13:48:14.626      card  ANON-0000-0000-0004   38.7   \n",
       "\n",
       "     coffee_name  Year  Month  \n",
       "0          Latte  2024      3  \n",
       "1  Hot Chocolate  2024      3  \n",
       "2  Hot Chocolate  2024      3  \n",
       "3      Americano  2024      3  \n",
       "4          Latte  2024      3  "
      ]
     },
     "execution_count": 12,
     "metadata": {},
     "output_type": "execute_result"
    }
   ],
   "source": [
    "data.head()"
   ]
  },
  {
   "cell_type": "markdown",
   "id": "3c5afba3-6cbd-4370-87c0-87f61efa13e5",
   "metadata": {},
   "source": [
    "\n",
    "\n",
    "                                                        Exploratory Data Analysis (EDA)\n",
    "\n",
    "                                                        "
   ]
  },
  {
   "cell_type": "code",
   "execution_count": 13,
   "id": "cf9de77d-d1b6-428f-b299-08c210243a83",
   "metadata": {},
   "outputs": [
    {
     "name": "stdout",
     "output_type": "stream",
     "text": [
      "\n",
      "Correlation Matrix:\n",
      "          money  Year     Month\n",
      "money  1.000000   NaN -0.291433\n",
      "Year        NaN   NaN       NaN\n",
      "Month -0.291433   NaN  1.000000\n"
     ]
    }
   ],
   "source": [
    "correlation_matrix = data.corr(numeric_only=True)\n",
    "print(\"\\nCorrelation Matrix:\")\n",
    "print(correlation_matrix)"
   ]
  },
  {
   "cell_type": "code",
   "execution_count": 15,
   "id": "685a98a4-c098-47d9-98a4-f62b59d09ccf",
   "metadata": {},
   "outputs": [
    {
     "data": {
      "image/png": "[encoded data removed]",
      "text/plain": [
       "<Figure size 600x400 with 2 Axes>"
      ]
     },
     "metadata": {},
     "output_type": "display_data"
    }
   ],
   "source": [
    "# Correlation heatmap\n",
    "plt.figure(figsize=(6, 4))\n",
    "sns.heatmap(correlation_matrix, annot=True, cmap=\"coolwarm\", fmt=\".2f\")\n",
    "plt.title(\"Correlation Heatmap\")\n",
    "plt.show()"
   ]
  },
  {
   "cell_type": "code",
   "execution_count": 14,
   "id": "c16429f3-4eab-441e-beff-bc1f2fd0dbf1",
   "metadata": {},
   "outputs": [
    {
     "data": {
      "image/png": "[encoded data removed]",
      "text/plain": [
       "<Figure size 1200x500 with 2 Axes>"
      ]
     },
     "metadata": {},
     "output_type": "display_data"
    }
   ],
   "source": [
    "# Histograms for numerical columns\n",
    "fig, axes = plt.subplots(1, 2, figsize=(12, 5))\n",
    "sns.histplot(data['money'], bins=20, kde=True, ax=axes[0])\n",
    "axes[0].set_title(\"Distribution of Money\")\n",
    "\n",
    "sns.histplot(data['Month'], bins=5, discrete=True, kde=False, ax=axes[1])\n",
    "axes[1].set_title(\"Distribution of Months\")\n",
    "\n",
    "plt.tight_layout()\n",
    "plt.show()"
   ]
  },
  {
   "cell_type": "code",
   "execution_count": 17,
   "id": "8afe98ec-eb79-4aef-8983-dd0eee43edaa",
   "metadata": {},
   "outputs": [
    {
     "data": {
      "image/png": "[encoded data removed]",
      "text/plain": [
       "<Figure size 1000x500 with 1 Axes>"
      ]
     },
     "metadata": {},
     "output_type": "display_data"
    }
   ],
   "source": [
    "# Bar plot for categorical variable: coffee_name\n",
    "plt.figure(figsize=(10, 5))\n",
    "sns.countplot(y=data['coffee_name'], order=data['coffee_name'].value_counts().index, palette=\"viridis\")\n",
    "plt.title(\"Distribution of Coffee Types\")\n",
    "plt.xlabel(\"Count\")\n",
    "plt.ylabel(\"Coffee Name\")\n",
    "plt.show()"
   ]
  },
  {
   "cell_type": "markdown",
   "id": "f57b953a-47d1-46bd-839d-8ce08d5dd398",
   "metadata": {},
   "source": [
    "\n",
    "\n",
    "                                                    Machine Learning Modeling\n",
    "                                                        Splitting the Data\n",
    "\n",
    "                                                        "
   ]
  },
  {
   "cell_type": "code",
   "execution_count": 1,
   "id": "95bc57f2-dd67-48c3-bbbd-f29912c7c2b3",
   "metadata": {},
   "outputs": [],
   "source": [
    "import pandas as pd\n",
    "import numpy as np\n",
    "import matplotlib.pyplot as plt\n",
    "import seaborn as sns\n",
    "from sklearn.model_selection import train_test_split\n",
    "from sklearn.preprocessing import LabelEncoder\n",
    "from sklearn.linear_model import LinearRegression\n",
    "from sklearn.metrics import mean_absolute_error, mean_squared_error, r2_score"
   ]
  },
  {
   "cell_type": "code",
   "execution_count": 19,
   "id": "dabae3d7-fbf7-4e85-b8a6-078a6f5b7af8",
   "metadata": {},
   "outputs": [],
   "source": [
    "target = \"money\"\n",
    "y = data[target]"
   ]
  },
  {
   "cell_type": "code",
   "execution_count": 24,
   "id": "735a073b-f062-4402-8b17-ea10532c2eb0",
   "metadata": {},
   "outputs": [
    {
     "name": "stdout",
     "output_type": "stream",
     "text": [
      "\n",
      "🔹 Numerical Features Model Performance:\n",
      "{'MAE': 3.785170241529704, 'MSE': 19.54196314789827, 'RMSE': np.float64(4.420629270578824), 'R2 Score': -0.049713546156701316}\n"
     ]
    }
   ],
   "source": [
    "#Numerical Features Only\n",
    "num_features = data.select_dtypes(include=['number']).columns.drop(target)  # Exclude target\n",
    "X_num = data[num_features]\n",
    "\n",
    "# Split the data\n",
    "X_train_num, X_test_num, y_train, y_test = train_test_split(X_num, y, test_size=0.2, random_state=42)\n",
    "\n",
    "# Train numerical-only model\n",
    "model_num = LinearRegression()\n",
    "model_num.fit(X_train_num, y_train)\n",
    "y_pred_num = model_num.predict(X_test_num)\n",
    "\n",
    "def evaluate_model(y_true, y_pred):\n",
    "    return {\n",
    "        \"MAE\": mean_absolute_error(y_true, y_pred),\n",
    "        \"MSE\": mean_squared_error(y_true, y_pred),\n",
    "        \"RMSE\": np.sqrt(mean_squared_error(y_true, y_pred)),\n",
    "        \"R2 Score\": r2_score(y_true, y_pred)\n",
    "    }\n",
    "results_num = evaluate_model(y_test, y_pred_num)\n",
    "print(\"\\n🔹 Numerical Features Model Performance:\")\n",
    "print(results_num)"
   ]
  },
  {
   "cell_type": "markdown",
   "id": "bfef8e1e-56ca-4b7d-983d-bf0b0ed785a0",
   "metadata": {},
   "source": [
    "\n",
    "                                                    \n",
    "                                                    Model Interpretation and Conclusion\n",
    "                                            You can interpret the model by looking at the coefficients\n",
    "\n",
    "                                            "
   ]
  },
  {
   "cell_type": "code",
   "execution_count": 6,
   "id": "06a4c19b-ad08-4e6f-9173-29517a7dcb7f",
   "metadata": {},
   "outputs": [
    {
     "name": "stdout",
     "output_type": "stream",
     "text": [
      "Model Coefficients:\n",
      "        Feature  Coefficient\n",
      "0    cash_type    -2.812850\n",
      "1  coffee_name     0.735791\n",
      "2         hour     0.158905\n",
      "3  day_of_week     0.081626\n"
     ]
    },
    {
     "data": {
      "image/png": "[encoded data removed]",
      "text/plain": [
       "<Figure size 1800x500 with 3 Axes>"
      ]
     },
     "metadata": {},
     "output_type": "display_data"
    }
   ],
   "source": [
    "# Data Preprocessing\n",
    "df_clean = data.copy()\n",
    "df_clean[\"cash_type\"] = df_clean[\"cash_type\"].apply(lambda x: 1 if x == \"card\" else 0)\n",
    "df_clean[\"card\"] = df_clean[\"card\"].fillna(\"Unknown\")\n",
    "df_clean[\"coffee_name\"] = df_clean[\"coffee_name\"].astype(\"category\").cat.codes\n",
    "df_clean[\"datetime\"] = pd.to_datetime(df_clean[\"datetime\"])\n",
    "df_clean[\"hour\"] = df_clean[\"datetime\"].dt.hour\n",
    "df_clean[\"day_of_week\"] = df_clean[\"datetime\"].dt.dayofweek\n",
    "df_clean = df_clean.drop(columns=[\"date\", \"datetime\", \"card\"])\n",
    "\n",
    "# Define X and y\n",
    "X = df_clean.drop(columns=[\"money\"])\n",
    "y = df_clean[\"money\"]\n",
    "\n",
    "# Train Linear Regression Model\n",
    "model = LinearRegression()\n",
    "model.fit(X, y)\n",
    "coefficients = pd.DataFrame({\"Feature\": X.columns, \"Coefficient\": model.coef_})\n",
    "print(\"Model Coefficients:\\n\", coefficients)\n",
    "\n",
    "# Visualization\n",
    "sns.set_theme(style=\"whitegrid\")\n",
    "fig, axes = plt.subplots(1, 3, figsize=(18, 5))\n",
    "\n",
    "# Bar Plot: Coffee Type vs. Spending\n",
    "sns.barplot(x=df_clean[\"coffee_name\"], y=df_clean[\"money\"], ax=axes[0], palette=\"coolwarm\")\n",
    "axes[0].set_title(\"Average Spending by Coffee Type\")\n",
    "axes[0].set_xlabel(\"Coffee Type (Encoded)\")\n",
    "axes[0].set_ylabel(\"Money Spent\")\n",
    "\n",
    "# Box Plot: Cash Type vs. Spending\n",
    "sns.boxplot(x=df_clean[\"cash_type\"], y=df_clean[\"money\"], ax=axes[1], palette=\"coolwarm\")\n",
    "axes[1].set_title(\"Spending Distribution by Payment Method\")\n",
    "axes[1].set_xlabel(\"Cash Type (0 = Cash, 1 = Card)\")\n",
    "axes[1].set_ylabel(\"Money Spent\")\n",
    "\n",
    "# Scatter Plot: Hour vs. Spending\n",
    "sns.scatterplot(x=df_clean[\"hour\"], y=df_clean[\"money\"], ax=axes[2], alpha=0.5, color=\"blue\")\n",
    "sns.regplot(x=df_clean[\"hour\"], y=df_clean[\"money\"], ax=axes[2], scatter=False, color=\"red\")\n",
    "axes[2].set_title(\"Spending vs. Time of Day\")\n",
    "axes[2].set_xlabel(\"Hour of Purchase\")\n",
    "axes[2].set_ylabel(\"Money Spent\")\n",
    "\n",
    "plt.tight_layout()\n",
    "plt.show()"
   ]
  },
  {
   "cell_type": "code",
   "execution_count": 5,
   "id": "8d9963e2-c1be-4178-83bc-fb93386113a8",
   "metadata": {},
   "outputs": [],
   "source": [
    "data.to_csv(\"Updated Coffee Sales Data.csv\")"
   ]
  },
  {
   "cell_type": "markdown",
   "id": "344c805a-312e-4ad0-9baa-05f2c748dd6f",
   "metadata": {},
   "source": [
    "\n",
    "                                                                    \n",
    "                                                                    --END--\n",
    "\n",
    "                                                                    "
   ]
  },
  {
   "cell_type": "code",
   "execution_count": null,
   "id": "f33c1817-0543-4118-976d-b5494f746609",
   "metadata": {},
   "outputs": [],
   "source": []
  }
 ],
 "metadata": {
  "kernelspec": {
   "display_name": "Python 3 (ipykernel)",
   "language": "python",
   "name": "python3"
  },
  "language_info": {
   "codemirror_mode": {
    "name": "ipython",
    "version": 3
   },
   "file_extension": ".py",
   "mimetype": "text/x-python",
   "name": "python",
   "nbconvert_exporter": "python",
   "pygments_lexer": "ipython3",
   "version": "3.13.2"
  }
 },
 "nbformat": 4,
 "nbformat_minor": 5
}
